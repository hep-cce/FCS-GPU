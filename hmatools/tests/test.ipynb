{
 "cells": [
  {
   "cell_type": "code",
   "execution_count": 1,
   "metadata": {},
   "outputs": [
    {
     "name": "stdout",
     "output_type": "stream",
     "text": [
      "python_dir: /Users/marcolz/HEP/self_hosted_runner/fcstools/python\n",
      "Modules imported successfully\n"
     ]
    }
   ],
   "source": [
    "import os\n",
    "import sys\n",
    "\n",
    "# Construct the path to the 'python' directory\n",
    "python_dir = os.path.abspath(os.path.join(os.getcwd(), '..', 'python'))\n",
    "print(f\"python_dir: {python_dir}\")\n",
    "\n",
    "# Verify that the 'python' directory exists\n",
    "if not os.path.isdir(python_dir):\n",
    "    raise FileNotFoundError(f\"Directory '{python_dir}' does not exist\")\n",
    "\n",
    "# Add the 'python' directory to the system path\n",
    "sys.path.append(python_dir)\n",
    "\n",
    "# Verify that the required files exist in the 'python' directory\n",
    "required_files = ['fcs_result.py', 'fcs_plot.py']\n",
    "for file in required_files:\n",
    "    if not os.path.isfile(os.path.join(python_dir, file)):\n",
    "        raise FileNotFoundError(f\"File '{file}' not found in directory '{python_dir}'\")\n",
    "\n",
    "# Import the modules\n",
    "from fcs_result import FcsResult\n",
    "from fcs_plot import FcsPlot\n",
    "\n",
    "print(\"Modules imported successfully\")"
   ]
  },
  {
   "cell_type": "code",
   "execution_count": 6,
   "metadata": {},
   "outputs": [
    {
     "name": "stdout",
     "output_type": "stream",
     "text": [
      "No kernel information found for /Users/marcolz/HEP/self_hosted_runner/fcstools/tests/Log Files - Run FastCaloSim/run_log_fcs-stdpar-6.30.04-nvhpc23.9-devel-cuda12.2-ubuntu22.04_20240801101512.txt\n",
      "No nvidia-smi output found in the logfile.\n",
      "No kernel timing information found for /Users/marcolz/HEP/self_hosted_runner/fcstools/tests/Log Files - Run FastCaloSim/run_log_fcs-x86-6.30.04-ubuntu22.04_20240801101159.txt\n",
      "Launch count appended for cuda_cuda12.2.2-devel-ubuntu22.04: 19973\n",
      "Launch count appended for cuda_2_nvhpc23.9-devel-cuda12.2-ubuntu22.04: 19973\n",
      "Launch count appended for kokkos-cuda_cuda12.2.2-devel-ubuntu22.04: 19973\n",
      "Launch count appended for kokkos-cuda_2_nvhpc23.9-devel-cuda12.2-ubuntu22.04: 19973\n"
     ]
    },
    {
     "ename": "TypeError",
     "evalue": "FcsPlot.plot() got an unexpected keyword argument 'output_filename'",
     "output_type": "error",
     "traceback": [
      "\u001b[0;31m---------------------------------------------------------------------------\u001b[0m",
      "\u001b[0;31mTypeError\u001b[0m                                 Traceback (most recent call last)",
      "Cell \u001b[0;32mIn[6], line 15\u001b[0m\n\u001b[1;32m     12\u001b[0m result\u001b[38;5;241m.\u001b[39mdump_to_json(\u001b[38;5;124m\"\u001b[39m\u001b[38;5;124mfcs_results.json\u001b[39m\u001b[38;5;124m\"\u001b[39m)\n\u001b[1;32m     14\u001b[0m plot \u001b[38;5;241m=\u001b[39m FcsPlot(\u001b[38;5;124m\"\u001b[39m\u001b[38;5;124mfcs_results.json\u001b[39m\u001b[38;5;124m\"\u001b[39m)\n\u001b[0;32m---> 15\u001b[0m \u001b[43mplot\u001b[49m\u001b[38;5;241;43m.\u001b[39;49m\u001b[43mplot\u001b[49m\u001b[43m(\u001b[49m\u001b[43msave_plot\u001b[49m\u001b[38;5;241;43m=\u001b[39;49m\u001b[38;5;28;43;01mTrue\u001b[39;49;00m\u001b[43m,\u001b[49m\u001b[43m \u001b[49m\u001b[43moutput_dir\u001b[49m\u001b[38;5;241;43m=\u001b[39;49m\u001b[43mos\u001b[49m\u001b[38;5;241;43m.\u001b[39;49m\u001b[43mgetcwd\u001b[49m\u001b[43m(\u001b[49m\u001b[43m)\u001b[49m\u001b[43m,\u001b[49m\u001b[43m \u001b[49m\u001b[43moutput_filename\u001b[49m\u001b[38;5;241;43m=\u001b[39;49m\u001b[38;5;124;43m\"\u001b[39;49m\u001b[38;5;124;43mfcs_results.png\u001b[39;49m\u001b[38;5;124;43m\"\u001b[39;49m\u001b[43m)\u001b[49m\n",
      "\u001b[0;31mTypeError\u001b[0m: FcsPlot.plot() got an unexpected keyword argument 'output_filename'"
     ]
    },
    {
     "data": {
      "image/png": "[encoded data removed]",
      "text/plain": [
       "<Figure size 1000x900 with 2 Axes>"
      ]
     },
     "metadata": {},
     "output_type": "display_data"
    }
   ],
   "source": [
    "%reload_ext autoreload\n",
    "%autoreload 2\n",
    "\n",
    "input_dir = os.path.join(os.getcwd(), \"Log Files - Run FastCaloSim\")\n",
    "assert os.path.exists(input_dir), f\"Input directory {input_dir} does not exist\"\n",
    "num_files = len([f for f in os.listdir(input_dir) if os.path.isfile(os.path.join(input_dir, f))])\n",
    "\n",
    "result = FcsResult(input_dir)\n",
    "results = result.get_results()\n",
    "assert len(results) == num_files\n",
    "\n",
    "result.dump_to_json(\"fcs_results.json\")\n",
    "\n",
    "plot = FcsPlot(\"fcs_results.json\")\n",
    "plot.plot(save_plot=True, output_dir=os.getcwd(), filename=\"fcs_results.png\")\n",
    "\n"
   ]
  },
  {
   "cell_type": "code",
   "execution_count": 3,
   "metadata": {},
   "outputs": [
    {
     "name": "stdout",
     "output_type": "stream",
     "text": [
      "No kernel information found for /Users/marcolz/HEP/self_hosted_runner/fcstools/tests/Log Files - Run FastCaloSim/run_log_fcs-stdpar-6.30.04-nvhpc23.9-devel-cuda12.2-ubuntu22.04_20240801101512.txt\n",
      "No nvidia-smi output found in the logfile.\n",
      "No kernel timing information found for /Users/marcolz/HEP/self_hosted_runner/fcstools/tests/Log Files - Run FastCaloSim/run_log_fcs-x86-6.30.04-ubuntu22.04_20240801101159.txt\n",
      "[<fcs_run.FcsRun object at 0x12bdbcfb0>, <fcs_run.FcsRun object at 0x12bec40b0>, <fcs_run.FcsRun object at 0x12be7c200>, <fcs_run.FcsRun object at 0x12bec47a0>, <fcs_run.FcsRun object at 0x12be9dc70>, <fcs_run.FcsRun object at 0x12b783da0>]\n"
     ]
    }
   ],
   "source": [
    "%reload_ext autoreload\n",
    "%autoreload 2\n",
    "\n",
    "input_dir = os.path.join(os.getcwd(), \"Log Files - Run FastCaloSim\")\n",
    "assert os.path.exists(input_dir), f\"Input directory {input_dir} does not exist\"\n",
    "num_files = len([f for f in os.listdir(input_dir) if os.path.isfile(os.path.join(input_dir, f))])\n",
    "\n",
    "result = FcsResult(input_dir)\n",
    "results = result.get_results()\n",
    "print(results)\n",
    "assert len(results) == num_files"
   ]
  },
  {
   "cell_type": "code",
   "execution_count": null,
   "metadata": {},
   "outputs": [],
   "source": []
  }
 ],
 "metadata": {
  "kernelspec": {
   "display_name": "PP",
   "language": "python",
   "name": "python3"
  },
  "language_info": {
   "codemirror_mode": {
    "name": "ipython",
    "version": 3
   },
   "file_extension": ".py",
   "mimetype": "text/x-python",
   "name": "python",
   "nbconvert_exporter": "python",
   "pygments_lexer": "ipython3",
   "version": "3.12.4"
  }
 },
 "nbformat": 4,
 "nbformat_minor": 2
}
